{
  "nbformat": 4,
  "nbformat_minor": 0,
  "metadata": {
    "colab": {
      "provenance": [],
      "collapsed_sections": [
        "JeoEgqCk6_5c"
      ],
      "authorship_tag": "ABX9TyPgefM6PzVe0oufChpBmgu0",
      "include_colab_link": true
    },
    "kernelspec": {
      "name": "python3",
      "display_name": "Python 3"
    },
    "language_info": {
      "name": "python"
    }
  },
  "cells": [
    {
      "cell_type": "markdown",
      "metadata": {
        "id": "view-in-github",
        "colab_type": "text"
      },
      "source": [
        "<a href=\"https://colab.research.google.com/github/aleksandr329/SCAN_project/blob/Anna_branch/SCAN_%D0%BE%D1%82%D0%BA%D1%80%D1%8B%D1%82%D0%B8%D0%B5_%D1%84%D0%B0%D0%B9%D0%BB%D0%B0.ipynb\" target=\"_parent\"><img src=\"https://colab.research.google.com/assets/colab-badge.svg\" alt=\"Open In Colab\"/></a>"
      ]
    },
    {
      "cell_type": "code",
      "execution_count": 1,
      "metadata": {
        "id": "MrDdh8qGYPiX"
      },
      "outputs": [],
      "source": [
        "import pandas as pd\n",
        "import re"
      ]
    },
    {
      "cell_type": "markdown",
      "source": [
        "# Открытие датасета."
      ],
      "metadata": {
        "id": "WIoZRPnu7BUa"
      }
    },
    {
      "cell_type": "code",
      "source": [
        "# для открытия и чтения файла с данным c Google.Drive через Google.Colab\n",
        "\n",
        "from google.colab import drive\n",
        "drive.mount('/content/drive')\n",
        "path_DF = '/content/drive/MyDrive/Data_Science/Хакатон_SCAN/Queries.txt'"
      ],
      "metadata": {
        "colab": {
          "base_uri": "https://localhost:8080/"
        },
        "id": "aPTtLbhzYVfr",
        "outputId": "07c0239f-c897-4bad-e8be-b3ca7997dd04"
      },
      "execution_count": 3,
      "outputs": [
        {
          "output_type": "stream",
          "name": "stdout",
          "text": [
            "Mounted at /content/drive\n"
          ]
        }
      ]
    },
    {
      "cell_type": "code",
      "source": [
        "# В файле Queries.txt приведено множество поисковых запросов клиентов продукта СКАН\n",
        "# (формат: UserId Query - разделитель табуляция).\n",
        "\n",
        "data = pd.read_csv(path_DF, sep='\\t', header=None, names=['UserId', 'Query'])\n",
        "data.head()"
      ],
      "metadata": {
        "colab": {
          "base_uri": "https://localhost:8080/",
          "height": 206
        },
        "id": "yv_fBUZIZGDU",
        "outputId": "defc8f17-95bf-4e7b-9863-3dbf281b8bec"
      },
      "execution_count": 4,
      "outputs": [
        {
          "output_type": "execute_result",
          "data": {
            "text/plain": [
              "                                 UserId  \\\n",
              "0  00000000-0000-0000-0000-000000000000   \n",
              "1  00000000-0000-0000-0000-000000000000   \n",
              "2  00000000-0000-0000-0000-000000000000   \n",
              "3  00000000-0000-0000-0000-000000000000   \n",
              "4  00000000-0000-0000-0000-000000000000   \n",
              "\n",
              "                                               Query  \n",
              "0  ((Text(\"речные круизы\")) AND (Metadata(SourceC...  \n",
              "1  ((Text(\"Поезд\")) AND (Metadata(SourceCategory(...  \n",
              "2  ((((Exact(Text(\"Яндекс.Директ\")))) OR ((Text(\"...  \n",
              "3  ((Text(\"отели\")) AND ((Metadata(SourceTopic({3...  \n",
              "4  ((((Text(\"российских\"))) OR ((Location(Id(4C8B...  "
            ],
            "text/html": [
              "\n",
              "  <div id=\"df-d7b828a1-46c6-45ce-ae6c-ef4e263a49cd\">\n",
              "    <div class=\"colab-df-container\">\n",
              "      <div>\n",
              "<style scoped>\n",
              "    .dataframe tbody tr th:only-of-type {\n",
              "        vertical-align: middle;\n",
              "    }\n",
              "\n",
              "    .dataframe tbody tr th {\n",
              "        vertical-align: top;\n",
              "    }\n",
              "\n",
              "    .dataframe thead th {\n",
              "        text-align: right;\n",
              "    }\n",
              "</style>\n",
              "<table border=\"1\" class=\"dataframe\">\n",
              "  <thead>\n",
              "    <tr style=\"text-align: right;\">\n",
              "      <th></th>\n",
              "      <th>UserId</th>\n",
              "      <th>Query</th>\n",
              "    </tr>\n",
              "  </thead>\n",
              "  <tbody>\n",
              "    <tr>\n",
              "      <th>0</th>\n",
              "      <td>00000000-0000-0000-0000-000000000000</td>\n",
              "      <td>((Text(\"речные круизы\")) AND (Metadata(SourceC...</td>\n",
              "    </tr>\n",
              "    <tr>\n",
              "      <th>1</th>\n",
              "      <td>00000000-0000-0000-0000-000000000000</td>\n",
              "      <td>((Text(\"Поезд\")) AND (Metadata(SourceCategory(...</td>\n",
              "    </tr>\n",
              "    <tr>\n",
              "      <th>2</th>\n",
              "      <td>00000000-0000-0000-0000-000000000000</td>\n",
              "      <td>((((Exact(Text(\"Яндекс.Директ\")))) OR ((Text(\"...</td>\n",
              "    </tr>\n",
              "    <tr>\n",
              "      <th>3</th>\n",
              "      <td>00000000-0000-0000-0000-000000000000</td>\n",
              "      <td>((Text(\"отели\")) AND ((Metadata(SourceTopic({3...</td>\n",
              "    </tr>\n",
              "    <tr>\n",
              "      <th>4</th>\n",
              "      <td>00000000-0000-0000-0000-000000000000</td>\n",
              "      <td>((((Text(\"российских\"))) OR ((Location(Id(4C8B...</td>\n",
              "    </tr>\n",
              "  </tbody>\n",
              "</table>\n",
              "</div>\n",
              "      <button class=\"colab-df-convert\" onclick=\"convertToInteractive('df-d7b828a1-46c6-45ce-ae6c-ef4e263a49cd')\"\n",
              "              title=\"Convert this dataframe to an interactive table.\"\n",
              "              style=\"display:none;\">\n",
              "        \n",
              "  <svg xmlns=\"http://www.w3.org/2000/svg\" height=\"24px\"viewBox=\"0 0 24 24\"\n",
              "       width=\"24px\">\n",
              "    <path d=\"M0 0h24v24H0V0z\" fill=\"none\"/>\n",
              "    <path d=\"M18.56 5.44l.94 2.06.94-2.06 2.06-.94-2.06-.94-.94-2.06-.94 2.06-2.06.94zm-11 1L8.5 8.5l.94-2.06 2.06-.94-2.06-.94L8.5 2.5l-.94 2.06-2.06.94zm10 10l.94 2.06.94-2.06 2.06-.94-2.06-.94-.94-2.06-.94 2.06-2.06.94z\"/><path d=\"M17.41 7.96l-1.37-1.37c-.4-.4-.92-.59-1.43-.59-.52 0-1.04.2-1.43.59L10.3 9.45l-7.72 7.72c-.78.78-.78 2.05 0 2.83L4 21.41c.39.39.9.59 1.41.59.51 0 1.02-.2 1.41-.59l7.78-7.78 2.81-2.81c.8-.78.8-2.07 0-2.86zM5.41 20L4 18.59l7.72-7.72 1.47 1.35L5.41 20z\"/>\n",
              "  </svg>\n",
              "      </button>\n",
              "      \n",
              "  <style>\n",
              "    .colab-df-container {\n",
              "      display:flex;\n",
              "      flex-wrap:wrap;\n",
              "      gap: 12px;\n",
              "    }\n",
              "\n",
              "    .colab-df-convert {\n",
              "      background-color: #E8F0FE;\n",
              "      border: none;\n",
              "      border-radius: 50%;\n",
              "      cursor: pointer;\n",
              "      display: none;\n",
              "      fill: #1967D2;\n",
              "      height: 32px;\n",
              "      padding: 0 0 0 0;\n",
              "      width: 32px;\n",
              "    }\n",
              "\n",
              "    .colab-df-convert:hover {\n",
              "      background-color: #E2EBFA;\n",
              "      box-shadow: 0px 1px 2px rgba(60, 64, 67, 0.3), 0px 1px 3px 1px rgba(60, 64, 67, 0.15);\n",
              "      fill: #174EA6;\n",
              "    }\n",
              "\n",
              "    [theme=dark] .colab-df-convert {\n",
              "      background-color: #3B4455;\n",
              "      fill: #D2E3FC;\n",
              "    }\n",
              "\n",
              "    [theme=dark] .colab-df-convert:hover {\n",
              "      background-color: #434B5C;\n",
              "      box-shadow: 0px 1px 3px 1px rgba(0, 0, 0, 0.15);\n",
              "      filter: drop-shadow(0px 1px 2px rgba(0, 0, 0, 0.3));\n",
              "      fill: #FFFFFF;\n",
              "    }\n",
              "  </style>\n",
              "\n",
              "      <script>\n",
              "        const buttonEl =\n",
              "          document.querySelector('#df-d7b828a1-46c6-45ce-ae6c-ef4e263a49cd button.colab-df-convert');\n",
              "        buttonEl.style.display =\n",
              "          google.colab.kernel.accessAllowed ? 'block' : 'none';\n",
              "\n",
              "        async function convertToInteractive(key) {\n",
              "          const element = document.querySelector('#df-d7b828a1-46c6-45ce-ae6c-ef4e263a49cd');\n",
              "          const dataTable =\n",
              "            await google.colab.kernel.invokeFunction('convertToInteractive',\n",
              "                                                     [key], {});\n",
              "          if (!dataTable) return;\n",
              "\n",
              "          const docLinkHtml = 'Like what you see? Visit the ' +\n",
              "            '<a target=\"_blank\" href=https://colab.research.google.com/notebooks/data_table.ipynb>data table notebook</a>'\n",
              "            + ' to learn more about interactive tables.';\n",
              "          element.innerHTML = '';\n",
              "          dataTable['output_type'] = 'display_data';\n",
              "          await google.colab.output.renderOutput(dataTable, element);\n",
              "          const docLink = document.createElement('div');\n",
              "          docLink.innerHTML = docLinkHtml;\n",
              "          element.appendChild(docLink);\n",
              "        }\n",
              "      </script>\n",
              "    </div>\n",
              "  </div>\n",
              "  "
            ]
          },
          "metadata": {},
          "execution_count": 4
        }
      ]
    },
    {
      "cell_type": "code",
      "source": [
        "data.info()"
      ],
      "metadata": {
        "colab": {
          "base_uri": "https://localhost:8080/"
        },
        "id": "ohQoqpDsudql",
        "outputId": "271882c7-b5c3-4d0f-edb5-2d97a550de92"
      },
      "execution_count": 5,
      "outputs": [
        {
          "output_type": "stream",
          "name": "stdout",
          "text": [
            "<class 'pandas.core.frame.DataFrame'>\n",
            "RangeIndex: 28371 entries, 0 to 28370\n",
            "Data columns (total 2 columns):\n",
            " #   Column  Non-Null Count  Dtype \n",
            "---  ------  --------------  ----- \n",
            " 0   UserId  28371 non-null  object\n",
            " 1   Query   28371 non-null  object\n",
            "dtypes: object(2)\n",
            "memory usage: 443.4+ KB\n"
          ]
        }
      ]
    },
    {
      "cell_type": "code",
      "source": [
        "data.describe(include=object)"
      ],
      "metadata": {
        "colab": {
          "base_uri": "https://localhost:8080/",
          "height": 175
        },
        "id": "BdB8Fks9xmNt",
        "outputId": "da76511c-4a6c-4c73-8dbd-183e8e2af864"
      },
      "execution_count": 6,
      "outputs": [
        {
          "output_type": "execute_result",
          "data": {
            "text/plain": [
              "                                      UserId  \\\n",
              "count                                  28371   \n",
              "unique                                  1085   \n",
              "top     00000000-0000-0000-0000-000000000000   \n",
              "freq                                    2219   \n",
              "\n",
              "                                                    Query  \n",
              "count                                               28371  \n",
              "unique                                              27593  \n",
              "top     ((Exact(Text(\"9ff8d3d3-7624-490e-acd8-bfb2e3cf...  \n",
              "freq                                                    7  "
            ],
            "text/html": [
              "\n",
              "  <div id=\"df-44b10ec6-ea5a-4f4b-8861-80fb4b2321c3\">\n",
              "    <div class=\"colab-df-container\">\n",
              "      <div>\n",
              "<style scoped>\n",
              "    .dataframe tbody tr th:only-of-type {\n",
              "        vertical-align: middle;\n",
              "    }\n",
              "\n",
              "    .dataframe tbody tr th {\n",
              "        vertical-align: top;\n",
              "    }\n",
              "\n",
              "    .dataframe thead th {\n",
              "        text-align: right;\n",
              "    }\n",
              "</style>\n",
              "<table border=\"1\" class=\"dataframe\">\n",
              "  <thead>\n",
              "    <tr style=\"text-align: right;\">\n",
              "      <th></th>\n",
              "      <th>UserId</th>\n",
              "      <th>Query</th>\n",
              "    </tr>\n",
              "  </thead>\n",
              "  <tbody>\n",
              "    <tr>\n",
              "      <th>count</th>\n",
              "      <td>28371</td>\n",
              "      <td>28371</td>\n",
              "    </tr>\n",
              "    <tr>\n",
              "      <th>unique</th>\n",
              "      <td>1085</td>\n",
              "      <td>27593</td>\n",
              "    </tr>\n",
              "    <tr>\n",
              "      <th>top</th>\n",
              "      <td>00000000-0000-0000-0000-000000000000</td>\n",
              "      <td>((Exact(Text(\"9ff8d3d3-7624-490e-acd8-bfb2e3cf...</td>\n",
              "    </tr>\n",
              "    <tr>\n",
              "      <th>freq</th>\n",
              "      <td>2219</td>\n",
              "      <td>7</td>\n",
              "    </tr>\n",
              "  </tbody>\n",
              "</table>\n",
              "</div>\n",
              "      <button class=\"colab-df-convert\" onclick=\"convertToInteractive('df-44b10ec6-ea5a-4f4b-8861-80fb4b2321c3')\"\n",
              "              title=\"Convert this dataframe to an interactive table.\"\n",
              "              style=\"display:none;\">\n",
              "        \n",
              "  <svg xmlns=\"http://www.w3.org/2000/svg\" height=\"24px\"viewBox=\"0 0 24 24\"\n",
              "       width=\"24px\">\n",
              "    <path d=\"M0 0h24v24H0V0z\" fill=\"none\"/>\n",
              "    <path d=\"M18.56 5.44l.94 2.06.94-2.06 2.06-.94-2.06-.94-.94-2.06-.94 2.06-2.06.94zm-11 1L8.5 8.5l.94-2.06 2.06-.94-2.06-.94L8.5 2.5l-.94 2.06-2.06.94zm10 10l.94 2.06.94-2.06 2.06-.94-2.06-.94-.94-2.06-.94 2.06-2.06.94z\"/><path d=\"M17.41 7.96l-1.37-1.37c-.4-.4-.92-.59-1.43-.59-.52 0-1.04.2-1.43.59L10.3 9.45l-7.72 7.72c-.78.78-.78 2.05 0 2.83L4 21.41c.39.39.9.59 1.41.59.51 0 1.02-.2 1.41-.59l7.78-7.78 2.81-2.81c.8-.78.8-2.07 0-2.86zM5.41 20L4 18.59l7.72-7.72 1.47 1.35L5.41 20z\"/>\n",
              "  </svg>\n",
              "      </button>\n",
              "      \n",
              "  <style>\n",
              "    .colab-df-container {\n",
              "      display:flex;\n",
              "      flex-wrap:wrap;\n",
              "      gap: 12px;\n",
              "    }\n",
              "\n",
              "    .colab-df-convert {\n",
              "      background-color: #E8F0FE;\n",
              "      border: none;\n",
              "      border-radius: 50%;\n",
              "      cursor: pointer;\n",
              "      display: none;\n",
              "      fill: #1967D2;\n",
              "      height: 32px;\n",
              "      padding: 0 0 0 0;\n",
              "      width: 32px;\n",
              "    }\n",
              "\n",
              "    .colab-df-convert:hover {\n",
              "      background-color: #E2EBFA;\n",
              "      box-shadow: 0px 1px 2px rgba(60, 64, 67, 0.3), 0px 1px 3px 1px rgba(60, 64, 67, 0.15);\n",
              "      fill: #174EA6;\n",
              "    }\n",
              "\n",
              "    [theme=dark] .colab-df-convert {\n",
              "      background-color: #3B4455;\n",
              "      fill: #D2E3FC;\n",
              "    }\n",
              "\n",
              "    [theme=dark] .colab-df-convert:hover {\n",
              "      background-color: #434B5C;\n",
              "      box-shadow: 0px 1px 3px 1px rgba(0, 0, 0, 0.15);\n",
              "      filter: drop-shadow(0px 1px 2px rgba(0, 0, 0, 0.3));\n",
              "      fill: #FFFFFF;\n",
              "    }\n",
              "  </style>\n",
              "\n",
              "      <script>\n",
              "        const buttonEl =\n",
              "          document.querySelector('#df-44b10ec6-ea5a-4f4b-8861-80fb4b2321c3 button.colab-df-convert');\n",
              "        buttonEl.style.display =\n",
              "          google.colab.kernel.accessAllowed ? 'block' : 'none';\n",
              "\n",
              "        async function convertToInteractive(key) {\n",
              "          const element = document.querySelector('#df-44b10ec6-ea5a-4f4b-8861-80fb4b2321c3');\n",
              "          const dataTable =\n",
              "            await google.colab.kernel.invokeFunction('convertToInteractive',\n",
              "                                                     [key], {});\n",
              "          if (!dataTable) return;\n",
              "\n",
              "          const docLinkHtml = 'Like what you see? Visit the ' +\n",
              "            '<a target=\"_blank\" href=https://colab.research.google.com/notebooks/data_table.ipynb>data table notebook</a>'\n",
              "            + ' to learn more about interactive tables.';\n",
              "          element.innerHTML = '';\n",
              "          dataTable['output_type'] = 'display_data';\n",
              "          await google.colab.output.renderOutput(dataTable, element);\n",
              "          const docLink = document.createElement('div');\n",
              "          docLink.innerHTML = docLinkHtml;\n",
              "          element.appendChild(docLink);\n",
              "        }\n",
              "      </script>\n",
              "    </div>\n",
              "  </div>\n",
              "  "
            ]
          },
          "metadata": {},
          "execution_count": 6
        }
      ]
    },
    {
      "cell_type": "code",
      "source": [
        "print(f'Найдено дубликатов: {data.duplicated().sum()}')\n",
        "print(f'Найдено пропусков в данных:\\n {data.isna().sum()}')"
      ],
      "metadata": {
        "colab": {
          "base_uri": "https://localhost:8080/"
        },
        "id": "q04LOyeiukdr",
        "outputId": "8c75384d-9e8f-4d5f-e7de-43e34d3d51db"
      },
      "execution_count": 7,
      "outputs": [
        {
          "output_type": "stream",
          "name": "stdout",
          "text": [
            "Найдено дубликатов: 0\n",
            "Найдено пропусков в данных:\n",
            " UserId    0\n",
            "Query     0\n",
            "dtype: int64\n"
          ]
        }
      ]
    },
    {
      "cell_type": "markdown",
      "source": [
        "# Открытие json."
      ],
      "metadata": {
        "id": "JeoEgqCk6_5c"
      }
    },
    {
      "cell_type": "code",
      "source": [
        "from google.colab import drive\n",
        "drive.mount('/content/drive')\n",
        "path_JSON = '/content/drive/MyDrive/Data_Science/Хакатон_SCAN/ThemesWordClouds.json'"
      ],
      "metadata": {
        "colab": {
          "base_uri": "https://localhost:8080/"
        },
        "id": "QY4H-Q3J7S_M",
        "outputId": "7c0a6d27-c287-4e31-9a06-5bf876f75046"
      },
      "execution_count": 8,
      "outputs": [
        {
          "output_type": "stream",
          "name": "stdout",
          "text": [
            "Drive already mounted at /content/drive; to attempt to forcibly remount, call drive.mount(\"/content/drive\", force_remount=True).\n"
          ]
        }
      ]
    },
    {
      "cell_type": "code",
      "source": [
        "import json\n",
        "from pprint import pprint                                    # Импортируем функцию pprint() для печати журнала\n",
        "\n",
        "with open(path_JSON) as f:                     # Открываем файл и связываем его с объектом \"f\"\n",
        "  words_clouds_data = json.load(f)                           # Загружаем содержимое открытого файла в переменную words_clouds_data\n",
        "\n",
        "# Открываем как датафрейм\n",
        "#wc_data = pd.DataFrame(words_clouds_data)\n",
        "\n",
        "pprint(words_clouds_data[15]['WordCloud'])   #Ключей 572 (от 0 до 571)"
      ],
      "metadata": {
        "id": "IVUQMzA_qcKa",
        "colab": {
          "base_uri": "https://localhost:8080/"
        },
        "outputId": "a7d2582f-539c-4a85-814a-f9e62d7f8e73"
      },
      "execution_count": 11,
      "outputs": [
        {
          "output_type": "stream",
          "name": "stdout",
          "text": [
            "['займы',\n",
            " 'кредиты',\n",
            " 'кредит',\n",
            " 'заем',\n",
            " 'ссуда',\n",
            " 'кредитный',\n",
            " 'кредитование',\n",
            " 'программа',\n",
            " 'линия',\n",
            " 'предложение',\n",
            " 'пакет',\n",
            " 'портфель',\n",
            " 'договор',\n",
            " 'соглашение',\n",
            " 'фабрика',\n",
            " 'сервис',\n",
            " 'сумма',\n",
            " 'объем',\n",
            " 'получение',\n",
            " 'кредита',\n",
            " 'получить',\n",
            " 'привлечь',\n",
            " 'банки',\n",
            " 'банк']\n"
          ]
        }
      ]
    },
    {
      "cell_type": "code",
      "source": [
        "wc_data = pd.DataFrame(words_clouds_data)\n",
        "wc_data.head()"
      ],
      "metadata": {
        "colab": {
          "base_uri": "https://localhost:8080/",
          "height": 206
        },
        "id": "DXzcxKJqznzk",
        "outputId": "150d6cb6-d931-4eb2-8a97-fdb03d0873dd"
      },
      "execution_count": 12,
      "outputs": [
        {
          "output_type": "execute_result",
          "data": {
            "text/plain": [
              "                                    Theme  \\\n",
              "0  Письма, указы, заявления от госорганов   \n",
              "1                                   Истец   \n",
              "2                                Ответчик   \n",
              "3                              Преступник   \n",
              "4                     Потерпевшая сторона   \n",
              "\n",
              "                                           WordCloud  \n",
              "0  [письмо, указ, поправка, заявление, сообщение,...  \n",
              "1  [истец, после, основании, иск, иск, суд, требо...  \n",
              "2  [против, ответчик, иск, действие, поведение, с...  \n",
              "3  [преступник, уличить, уличать, разыскивать, об...  \n",
              "4  [потерпевшая, сторона, покушение, нападение, о...  "
            ],
            "text/html": [
              "\n",
              "  <div id=\"df-e91babdf-e815-4425-981c-d51ec06b7e4b\">\n",
              "    <div class=\"colab-df-container\">\n",
              "      <div>\n",
              "<style scoped>\n",
              "    .dataframe tbody tr th:only-of-type {\n",
              "        vertical-align: middle;\n",
              "    }\n",
              "\n",
              "    .dataframe tbody tr th {\n",
              "        vertical-align: top;\n",
              "    }\n",
              "\n",
              "    .dataframe thead th {\n",
              "        text-align: right;\n",
              "    }\n",
              "</style>\n",
              "<table border=\"1\" class=\"dataframe\">\n",
              "  <thead>\n",
              "    <tr style=\"text-align: right;\">\n",
              "      <th></th>\n",
              "      <th>Theme</th>\n",
              "      <th>WordCloud</th>\n",
              "    </tr>\n",
              "  </thead>\n",
              "  <tbody>\n",
              "    <tr>\n",
              "      <th>0</th>\n",
              "      <td>Письма, указы, заявления от госорганов</td>\n",
              "      <td>[письмо, указ, поправка, заявление, сообщение,...</td>\n",
              "    </tr>\n",
              "    <tr>\n",
              "      <th>1</th>\n",
              "      <td>Истец</td>\n",
              "      <td>[истец, после, основании, иск, иск, суд, требо...</td>\n",
              "    </tr>\n",
              "    <tr>\n",
              "      <th>2</th>\n",
              "      <td>Ответчик</td>\n",
              "      <td>[против, ответчик, иск, действие, поведение, с...</td>\n",
              "    </tr>\n",
              "    <tr>\n",
              "      <th>3</th>\n",
              "      <td>Преступник</td>\n",
              "      <td>[преступник, уличить, уличать, разыскивать, об...</td>\n",
              "    </tr>\n",
              "    <tr>\n",
              "      <th>4</th>\n",
              "      <td>Потерпевшая сторона</td>\n",
              "      <td>[потерпевшая, сторона, покушение, нападение, о...</td>\n",
              "    </tr>\n",
              "  </tbody>\n",
              "</table>\n",
              "</div>\n",
              "      <button class=\"colab-df-convert\" onclick=\"convertToInteractive('df-e91babdf-e815-4425-981c-d51ec06b7e4b')\"\n",
              "              title=\"Convert this dataframe to an interactive table.\"\n",
              "              style=\"display:none;\">\n",
              "        \n",
              "  <svg xmlns=\"http://www.w3.org/2000/svg\" height=\"24px\"viewBox=\"0 0 24 24\"\n",
              "       width=\"24px\">\n",
              "    <path d=\"M0 0h24v24H0V0z\" fill=\"none\"/>\n",
              "    <path d=\"M18.56 5.44l.94 2.06.94-2.06 2.06-.94-2.06-.94-.94-2.06-.94 2.06-2.06.94zm-11 1L8.5 8.5l.94-2.06 2.06-.94-2.06-.94L8.5 2.5l-.94 2.06-2.06.94zm10 10l.94 2.06.94-2.06 2.06-.94-2.06-.94-.94-2.06-.94 2.06-2.06.94z\"/><path d=\"M17.41 7.96l-1.37-1.37c-.4-.4-.92-.59-1.43-.59-.52 0-1.04.2-1.43.59L10.3 9.45l-7.72 7.72c-.78.78-.78 2.05 0 2.83L4 21.41c.39.39.9.59 1.41.59.51 0 1.02-.2 1.41-.59l7.78-7.78 2.81-2.81c.8-.78.8-2.07 0-2.86zM5.41 20L4 18.59l7.72-7.72 1.47 1.35L5.41 20z\"/>\n",
              "  </svg>\n",
              "      </button>\n",
              "      \n",
              "  <style>\n",
              "    .colab-df-container {\n",
              "      display:flex;\n",
              "      flex-wrap:wrap;\n",
              "      gap: 12px;\n",
              "    }\n",
              "\n",
              "    .colab-df-convert {\n",
              "      background-color: #E8F0FE;\n",
              "      border: none;\n",
              "      border-radius: 50%;\n",
              "      cursor: pointer;\n",
              "      display: none;\n",
              "      fill: #1967D2;\n",
              "      height: 32px;\n",
              "      padding: 0 0 0 0;\n",
              "      width: 32px;\n",
              "    }\n",
              "\n",
              "    .colab-df-convert:hover {\n",
              "      background-color: #E2EBFA;\n",
              "      box-shadow: 0px 1px 2px rgba(60, 64, 67, 0.3), 0px 1px 3px 1px rgba(60, 64, 67, 0.15);\n",
              "      fill: #174EA6;\n",
              "    }\n",
              "\n",
              "    [theme=dark] .colab-df-convert {\n",
              "      background-color: #3B4455;\n",
              "      fill: #D2E3FC;\n",
              "    }\n",
              "\n",
              "    [theme=dark] .colab-df-convert:hover {\n",
              "      background-color: #434B5C;\n",
              "      box-shadow: 0px 1px 3px 1px rgba(0, 0, 0, 0.15);\n",
              "      filter: drop-shadow(0px 1px 2px rgba(0, 0, 0, 0.3));\n",
              "      fill: #FFFFFF;\n",
              "    }\n",
              "  </style>\n",
              "\n",
              "      <script>\n",
              "        const buttonEl =\n",
              "          document.querySelector('#df-e91babdf-e815-4425-981c-d51ec06b7e4b button.colab-df-convert');\n",
              "        buttonEl.style.display =\n",
              "          google.colab.kernel.accessAllowed ? 'block' : 'none';\n",
              "\n",
              "        async function convertToInteractive(key) {\n",
              "          const element = document.querySelector('#df-e91babdf-e815-4425-981c-d51ec06b7e4b');\n",
              "          const dataTable =\n",
              "            await google.colab.kernel.invokeFunction('convertToInteractive',\n",
              "                                                     [key], {});\n",
              "          if (!dataTable) return;\n",
              "\n",
              "          const docLinkHtml = 'Like what you see? Visit the ' +\n",
              "            '<a target=\"_blank\" href=https://colab.research.google.com/notebooks/data_table.ipynb>data table notebook</a>'\n",
              "            + ' to learn more about interactive tables.';\n",
              "          element.innerHTML = '';\n",
              "          dataTable['output_type'] = 'display_data';\n",
              "          await google.colab.output.renderOutput(dataTable, element);\n",
              "          const docLink = document.createElement('div');\n",
              "          docLink.innerHTML = docLinkHtml;\n",
              "          element.appendChild(docLink);\n",
              "        }\n",
              "      </script>\n",
              "    </div>\n",
              "  </div>\n",
              "  "
            ]
          },
          "metadata": {},
          "execution_count": 12
        }
      ]
    },
    {
      "cell_type": "code",
      "source": [
        "wc_data.Theme.nunique()"
      ],
      "metadata": {
        "colab": {
          "base_uri": "https://localhost:8080/"
        },
        "id": "QAm3Uaoz1DDQ",
        "outputId": "6b2ea07a-aeb1-4eae-e2e5-ee51122543b1"
      },
      "execution_count": 16,
      "outputs": [
        {
          "output_type": "execute_result",
          "data": {
            "text/plain": [
              "572"
            ]
          },
          "metadata": {},
          "execution_count": 16
        }
      ]
    },
    {
      "cell_type": "markdown",
      "source": [
        "# Прочее."
      ],
      "metadata": {
        "id": "7sL5Bz_l7nLr"
      }
    },
    {
      "cell_type": "code",
      "source": [
        "# Фразовые запросы\n",
        "\n",
        "phrase_queries = ['OrderedText', 'Text', 'OrderedWildcard', 'Wildcard',\n",
        "                  'OrderedTextAnyDistance', 'InSameSentence', 'InSameParagraph',\n",
        "                  'Exact']\n",
        "\n",
        "# Запросы объектов и размерных величин\n",
        "mesure_queries = ['Id', 'Metadata', 'Name', 'Org', 'Location', 'Trademark',\n",
        "                  'IndustrialSector', 'IndustrialSectorPositiveTonality',\n",
        "                  'IndustrialSectorNegativeTonality', 'NewsCluster', 'Date',\n",
        "                  'Dim', 'AuthorName']\n",
        "\n",
        "# Запросы фактов, рубрик и прямой речи\n",
        "fact_queries = ['Speech', 'Event', 'Subject', 'EventType']\n",
        "\n",
        "# Запросы источников\n",
        "source_queries = ['Source', 'SourceLevel', 'SourceCategory', 'SourceRegion', 'SourceTopic']\n",
        "\n",
        "# Остальное\n",
        "others_queries = ['Language', 'DocumentType']"
      ],
      "metadata": {
        "id": "NhCHk7JIwgIL"
      },
      "execution_count": null,
      "outputs": []
    },
    {
      "cell_type": "code",
      "source": [
        "'''from collections import Counter\n",
        ">>> cnt = Counter(['red', 'blue', 'red', 'green', 'blue', 'blue'])\n",
        ">>> dict(cnt)'''"
      ],
      "metadata": {
        "id": "ipZuwop10mrW",
        "colab": {
          "base_uri": "https://localhost:8080/",
          "height": 36
        },
        "outputId": "df0bb2e8-b19b-4eee-d13e-6bd9601e8492"
      },
      "execution_count": null,
      "outputs": [
        {
          "output_type": "execute_result",
          "data": {
            "text/plain": [
              "\"from collections import Counter\\ncnt = Counter(['red', 'blue', 'red', 'green', 'blue', 'blue'])\\ndict(cnt)\""
            ],
            "application/vnd.google.colaboratory.intrinsic+json": {
              "type": "string"
            }
          },
          "metadata": {},
          "execution_count": 8
        }
      ]
    },
    {
      "cell_type": "code",
      "source": [
        "'''popular_query = []\n",
        "for query in data.Query:\n",
        "  query.lower()\n",
        "  find = query.find(\"\")'''"
      ],
      "metadata": {
        "id": "qto3_1mzz4DP",
        "colab": {
          "base_uri": "https://localhost:8080/",
          "height": 36
        },
        "outputId": "fabc880b-604f-485f-d827-2b05adaa1d2f"
      },
      "execution_count": null,
      "outputs": [
        {
          "output_type": "execute_result",
          "data": {
            "text/plain": [
              "'popular_query = []\\nfor query in data.Query:\\n  query.lower()\\n  find = query.find(\"\")'"
            ],
            "application/vnd.google.colaboratory.intrinsic+json": {
              "type": "string"
            }
          },
          "metadata": {},
          "execution_count": 9
        }
      ]
    },
    {
      "cell_type": "code",
      "source": [
        "\n",
        "import re\n",
        "#import Stemmer\n",
        "\n",
        "#STEMMER = Stemmer.Stemmer('russian')\n",
        "\n",
        "def tokenize(text):\n",
        "    return text.split()\n",
        "\n",
        "#def lowercase_filter(tokens):\n",
        "    #return [token.lower() for token in tokens]\n",
        "\n",
        "#def punctuation_filter(tokens):\n",
        "    #return [PUNCTUATION.sub('', token) for token in tokens]\n",
        "\n",
        "def stopword_filter(tokens):\n",
        "    return [token for token in tokens if token not in STOPWORDS]\n",
        "\n",
        "def stem_filter(tokens):\n",
        "    return STEMMER.stemWords(tokens)\n",
        "\n",
        "def analyze(text):\n",
        "    tokens = tokenize(text)\n",
        "    #tokens = lowercase_filter(tokens)\n",
        "    #tokens = punctuation_filter(tokens)\n",
        "    #tokens = stopword_filter(tokens)\n",
        "    tokens = stem_filter(tokens)\n",
        "\n",
        "    return [token for token in tokens if token]"
      ],
      "metadata": {
        "id": "IDDGuQL3Xo_R"
      },
      "execution_count": 31,
      "outputs": []
    },
    {
      "cell_type": "markdown",
      "source": [
        "# Извлечение текста запроса (в работе)."
      ],
      "metadata": {
        "id": "fX07ScJa8EC7"
      }
    },
    {
      "cell_type": "code",
      "source": [
        "df = data.copy()"
      ],
      "metadata": {
        "id": "utWba8Pw73IC"
      },
      "execution_count": 138,
      "outputs": []
    },
    {
      "cell_type": "code",
      "source": [
        "# удаляем скобки\n",
        "df['Query'] = df['Query'].apply(lambda query: query.replace('(', ' '))\n",
        "df['Query'] = df['Query'].apply(lambda query: query.replace(')', ' '))"
      ],
      "metadata": {
        "id": "L7K2jdYe09WN"
      },
      "execution_count": 139,
      "outputs": []
    },
    {
      "cell_type": "code",
      "source": [
        "# выделение текста запроса через регулярку\n",
        "# не организации, не персоны, не локации = ['Org', 'Name', 'Location']\n",
        "\n",
        "def get_txt(query):\n",
        "  if 'Org' or 'Name' or 'Location' not in query:  # не организации, не персоны, не локации = ['Org', 'Name', 'Location']\n",
        "    query.split(' ')\n",
        "    pattern = r'[\"]\\S+\\s*\\S+\\s*\\S+[\"]'\n",
        "    result = re.findall(pattern, query)\n",
        "    return result\n",
        "  else:\n",
        "    return None\n",
        "\n",
        "\n",
        "df['Text'] = df['Query'].apply(lambda query: get_txt(query)).astype(str)\n",
        "#df['Text'] = df['Text'].apply(lambda x: str(x))"
      ],
      "metadata": {
        "id": "1TY7e7eGjjZq"
      },
      "execution_count": 140,
      "outputs": []
    },
    {
      "cell_type": "code",
      "source": [
        "df['Text'] = df['Text'].apply(lambda x: x.split(','))\n",
        "df = df.explode('Text', ignore_index=True)\n",
        "df['Text'] = df['Text'].astype(str)"
      ],
      "metadata": {
        "id": "ldgpmrDKD6LL"
      },
      "execution_count": 141,
      "outputs": []
    },
    {
      "cell_type": "code",
      "source": [
        "def edit_text(text):\n",
        "  for letter in text:\n",
        "    if letter =='[':\n",
        "      return text.replace('[','').strip()\n",
        "    if letter == ']':\n",
        "      return text.replace(']','').strip()\n",
        "    else:\n",
        "      return text.strip().strip()"
      ],
      "metadata": {
        "id": "iTTO08QGFmf6"
      },
      "execution_count": 142,
      "outputs": []
    },
    {
      "cell_type": "code",
      "source": [
        "df['Text'] = df['Text'].apply(lambda text: edit_text(text))"
      ],
      "metadata": {
        "id": "ZtrqLiavGYD6"
      },
      "execution_count": 143,
      "outputs": []
    },
    {
      "cell_type": "code",
      "source": [
        "df.head(20)"
      ],
      "metadata": {
        "colab": {
          "base_uri": "https://localhost:8080/",
          "height": 676
        },
        "id": "irtsRrJrJ80r",
        "outputId": "8ac380ee-0e97-4c2e-899f-10762f6d19d5"
      },
      "execution_count": 144,
      "outputs": [
        {
          "output_type": "execute_result",
          "data": {
            "text/plain": [
              "                                  UserId  \\\n",
              "0   00000000-0000-0000-0000-000000000000   \n",
              "1   00000000-0000-0000-0000-000000000000   \n",
              "2   00000000-0000-0000-0000-000000000000   \n",
              "3   00000000-0000-0000-0000-000000000000   \n",
              "4   00000000-0000-0000-0000-000000000000   \n",
              "5   00000000-0000-0000-0000-000000000000   \n",
              "6   00000000-0000-0000-0000-000000000000   \n",
              "7   00000000-0000-0000-0000-000000000000   \n",
              "8   00000000-0000-0000-0000-000000000000   \n",
              "9   00000000-0000-0000-0000-000000000000   \n",
              "10  00000000-0000-0000-0000-000000000000   \n",
              "11  00000000-0000-0000-0000-000000000000   \n",
              "12  00000000-0000-0000-0000-000000000000   \n",
              "13  00000000-0000-0000-0000-000000000000   \n",
              "14  00000000-0000-0000-0000-000000000000   \n",
              "15  00000000-0000-0000-0000-000000000000   \n",
              "16  00000000-0000-0000-0000-000000000000   \n",
              "17  00000000-0000-0000-0000-000000000000   \n",
              "18  00000000-0000-0000-0000-000000000000   \n",
              "19  00000000-0000-0000-0000-000000000000   \n",
              "\n",
              "                                                Query  \\\n",
              "0     Text \"речные круизы\"   AND  Metadata SourceC...   \n",
              "1     Text \"Поезд\"   AND  Metadata SourceCategory ...   \n",
              "2       Exact Text \"Яндекс.Директ\"     OR   Text \"...   \n",
              "3       Exact Text \"Яндекс.Директ\"     OR   Text \"...   \n",
              "4       Exact Text \"Яндекс.Директ\"     OR   Text \"...   \n",
              "5       Exact Text \"Яндекс.Директ\"     OR   Text \"...   \n",
              "6       Exact Text \"Яндекс.Директ\"     OR   Text \"...   \n",
              "7     Text \"отели\"   AND   Metadata SourceTopic {3...   \n",
              "8       Text \"российских\"    OR   Location Id 4C8B...   \n",
              "9     Text \"Москва\"   AND  Metadata SourceCategory...   \n",
              "10    Text \"Москва\"   AND  Metadata SourceCategory...   \n",
              "11    Text \"ПМЭФ 2023\"   AND   Metadata SourceLeve...   \n",
              "12      Org Id 8CBC8     AND NOT Text \"вагенровцы\"...   \n",
              "13      Org Id 8CBC8     AND NOT Text \"вагенровцы\"...   \n",
              "14       Metadata Id 825CFC    OR  Metadata Id 825...   \n",
              "15       Metadata Id 825CFC    OR  Metadata Id 825...   \n",
              "16       Metadata Id 825CFC    OR  Metadata Id 825...   \n",
              "17       Metadata Id 825CFC    OR  Metadata Id 825...   \n",
              "18       Org Id B68B11D    OR  Text \"Sinara Financ...   \n",
              "19       Org Id B68B11D    OR  Text \"Sinara Financ...   \n",
              "\n",
              "                                Text  \n",
              "0                 '\"речные круизы\"']  \n",
              "1                         '\"Поезд\"']  \n",
              "2                  '\"Яндекс.Директ\"'  \n",
              "3                '\"на наш Telegram\"'  \n",
              "4                    '\"Яндекс.Дзен\"'  \n",
              "5            '\"профиль в Инстаграм\"'  \n",
              "6                '\"Telegram-канал\"']  \n",
              "7                         '\"отели\"']  \n",
              "8                    '\"российских\"']  \n",
              "9                        '\"Москва\"']  \n",
              "10                       '\"Москва\"']  \n",
              "11                    '\"ПМЭФ 2023\"']  \n",
              "12                    '\"вагенровцы\"'  \n",
              "13               '\"вск-милосердие\"']  \n",
              "14                   '\"прогноз ввп\"'  \n",
              "15                     '\"бюджет РФ\"'  \n",
              "16                 '\"бюджет россии\"'  \n",
              "17                    '\"Мой район\"']  \n",
              "18  '\"Sinara Financial Corporation\"'  \n",
              "19             '\"инвестбанк Синара\"'  "
            ],
            "text/html": [
              "\n",
              "  <div id=\"df-40fc9b9b-cf47-49f2-9baa-c9c210730973\">\n",
              "    <div class=\"colab-df-container\">\n",
              "      <div>\n",
              "<style scoped>\n",
              "    .dataframe tbody tr th:only-of-type {\n",
              "        vertical-align: middle;\n",
              "    }\n",
              "\n",
              "    .dataframe tbody tr th {\n",
              "        vertical-align: top;\n",
              "    }\n",
              "\n",
              "    .dataframe thead th {\n",
              "        text-align: right;\n",
              "    }\n",
              "</style>\n",
              "<table border=\"1\" class=\"dataframe\">\n",
              "  <thead>\n",
              "    <tr style=\"text-align: right;\">\n",
              "      <th></th>\n",
              "      <th>UserId</th>\n",
              "      <th>Query</th>\n",
              "      <th>Text</th>\n",
              "    </tr>\n",
              "  </thead>\n",
              "  <tbody>\n",
              "    <tr>\n",
              "      <th>0</th>\n",
              "      <td>00000000-0000-0000-0000-000000000000</td>\n",
              "      <td>Text \"речные круизы\"   AND  Metadata SourceC...</td>\n",
              "      <td>'\"речные круизы\"']</td>\n",
              "    </tr>\n",
              "    <tr>\n",
              "      <th>1</th>\n",
              "      <td>00000000-0000-0000-0000-000000000000</td>\n",
              "      <td>Text \"Поезд\"   AND  Metadata SourceCategory ...</td>\n",
              "      <td>'\"Поезд\"']</td>\n",
              "    </tr>\n",
              "    <tr>\n",
              "      <th>2</th>\n",
              "      <td>00000000-0000-0000-0000-000000000000</td>\n",
              "      <td>Exact Text \"Яндекс.Директ\"     OR   Text \"...</td>\n",
              "      <td>'\"Яндекс.Директ\"'</td>\n",
              "    </tr>\n",
              "    <tr>\n",
              "      <th>3</th>\n",
              "      <td>00000000-0000-0000-0000-000000000000</td>\n",
              "      <td>Exact Text \"Яндекс.Директ\"     OR   Text \"...</td>\n",
              "      <td>'\"на наш Telegram\"'</td>\n",
              "    </tr>\n",
              "    <tr>\n",
              "      <th>4</th>\n",
              "      <td>00000000-0000-0000-0000-000000000000</td>\n",
              "      <td>Exact Text \"Яндекс.Директ\"     OR   Text \"...</td>\n",
              "      <td>'\"Яндекс.Дзен\"'</td>\n",
              "    </tr>\n",
              "    <tr>\n",
              "      <th>5</th>\n",
              "      <td>00000000-0000-0000-0000-000000000000</td>\n",
              "      <td>Exact Text \"Яндекс.Директ\"     OR   Text \"...</td>\n",
              "      <td>'\"профиль в Инстаграм\"'</td>\n",
              "    </tr>\n",
              "    <tr>\n",
              "      <th>6</th>\n",
              "      <td>00000000-0000-0000-0000-000000000000</td>\n",
              "      <td>Exact Text \"Яндекс.Директ\"     OR   Text \"...</td>\n",
              "      <td>'\"Telegram-канал\"']</td>\n",
              "    </tr>\n",
              "    <tr>\n",
              "      <th>7</th>\n",
              "      <td>00000000-0000-0000-0000-000000000000</td>\n",
              "      <td>Text \"отели\"   AND   Metadata SourceTopic {3...</td>\n",
              "      <td>'\"отели\"']</td>\n",
              "    </tr>\n",
              "    <tr>\n",
              "      <th>8</th>\n",
              "      <td>00000000-0000-0000-0000-000000000000</td>\n",
              "      <td>Text \"российских\"    OR   Location Id 4C8B...</td>\n",
              "      <td>'\"российских\"']</td>\n",
              "    </tr>\n",
              "    <tr>\n",
              "      <th>9</th>\n",
              "      <td>00000000-0000-0000-0000-000000000000</td>\n",
              "      <td>Text \"Москва\"   AND  Metadata SourceCategory...</td>\n",
              "      <td>'\"Москва\"']</td>\n",
              "    </tr>\n",
              "    <tr>\n",
              "      <th>10</th>\n",
              "      <td>00000000-0000-0000-0000-000000000000</td>\n",
              "      <td>Text \"Москва\"   AND  Metadata SourceCategory...</td>\n",
              "      <td>'\"Москва\"']</td>\n",
              "    </tr>\n",
              "    <tr>\n",
              "      <th>11</th>\n",
              "      <td>00000000-0000-0000-0000-000000000000</td>\n",
              "      <td>Text \"ПМЭФ 2023\"   AND   Metadata SourceLeve...</td>\n",
              "      <td>'\"ПМЭФ 2023\"']</td>\n",
              "    </tr>\n",
              "    <tr>\n",
              "      <th>12</th>\n",
              "      <td>00000000-0000-0000-0000-000000000000</td>\n",
              "      <td>Org Id 8CBC8     AND NOT Text \"вагенровцы\"...</td>\n",
              "      <td>'\"вагенровцы\"'</td>\n",
              "    </tr>\n",
              "    <tr>\n",
              "      <th>13</th>\n",
              "      <td>00000000-0000-0000-0000-000000000000</td>\n",
              "      <td>Org Id 8CBC8     AND NOT Text \"вагенровцы\"...</td>\n",
              "      <td>'\"вск-милосердие\"']</td>\n",
              "    </tr>\n",
              "    <tr>\n",
              "      <th>14</th>\n",
              "      <td>00000000-0000-0000-0000-000000000000</td>\n",
              "      <td>Metadata Id 825CFC    OR  Metadata Id 825...</td>\n",
              "      <td>'\"прогноз ввп\"'</td>\n",
              "    </tr>\n",
              "    <tr>\n",
              "      <th>15</th>\n",
              "      <td>00000000-0000-0000-0000-000000000000</td>\n",
              "      <td>Metadata Id 825CFC    OR  Metadata Id 825...</td>\n",
              "      <td>'\"бюджет РФ\"'</td>\n",
              "    </tr>\n",
              "    <tr>\n",
              "      <th>16</th>\n",
              "      <td>00000000-0000-0000-0000-000000000000</td>\n",
              "      <td>Metadata Id 825CFC    OR  Metadata Id 825...</td>\n",
              "      <td>'\"бюджет россии\"'</td>\n",
              "    </tr>\n",
              "    <tr>\n",
              "      <th>17</th>\n",
              "      <td>00000000-0000-0000-0000-000000000000</td>\n",
              "      <td>Metadata Id 825CFC    OR  Metadata Id 825...</td>\n",
              "      <td>'\"Мой район\"']</td>\n",
              "    </tr>\n",
              "    <tr>\n",
              "      <th>18</th>\n",
              "      <td>00000000-0000-0000-0000-000000000000</td>\n",
              "      <td>Org Id B68B11D    OR  Text \"Sinara Financ...</td>\n",
              "      <td>'\"Sinara Financial Corporation\"'</td>\n",
              "    </tr>\n",
              "    <tr>\n",
              "      <th>19</th>\n",
              "      <td>00000000-0000-0000-0000-000000000000</td>\n",
              "      <td>Org Id B68B11D    OR  Text \"Sinara Financ...</td>\n",
              "      <td>'\"инвестбанк Синара\"'</td>\n",
              "    </tr>\n",
              "  </tbody>\n",
              "</table>\n",
              "</div>\n",
              "      <button class=\"colab-df-convert\" onclick=\"convertToInteractive('df-40fc9b9b-cf47-49f2-9baa-c9c210730973')\"\n",
              "              title=\"Convert this dataframe to an interactive table.\"\n",
              "              style=\"display:none;\">\n",
              "        \n",
              "  <svg xmlns=\"http://www.w3.org/2000/svg\" height=\"24px\"viewBox=\"0 0 24 24\"\n",
              "       width=\"24px\">\n",
              "    <path d=\"M0 0h24v24H0V0z\" fill=\"none\"/>\n",
              "    <path d=\"M18.56 5.44l.94 2.06.94-2.06 2.06-.94-2.06-.94-.94-2.06-.94 2.06-2.06.94zm-11 1L8.5 8.5l.94-2.06 2.06-.94-2.06-.94L8.5 2.5l-.94 2.06-2.06.94zm10 10l.94 2.06.94-2.06 2.06-.94-2.06-.94-.94-2.06-.94 2.06-2.06.94z\"/><path d=\"M17.41 7.96l-1.37-1.37c-.4-.4-.92-.59-1.43-.59-.52 0-1.04.2-1.43.59L10.3 9.45l-7.72 7.72c-.78.78-.78 2.05 0 2.83L4 21.41c.39.39.9.59 1.41.59.51 0 1.02-.2 1.41-.59l7.78-7.78 2.81-2.81c.8-.78.8-2.07 0-2.86zM5.41 20L4 18.59l7.72-7.72 1.47 1.35L5.41 20z\"/>\n",
              "  </svg>\n",
              "      </button>\n",
              "      \n",
              "  <style>\n",
              "    .colab-df-container {\n",
              "      display:flex;\n",
              "      flex-wrap:wrap;\n",
              "      gap: 12px;\n",
              "    }\n",
              "\n",
              "    .colab-df-convert {\n",
              "      background-color: #E8F0FE;\n",
              "      border: none;\n",
              "      border-radius: 50%;\n",
              "      cursor: pointer;\n",
              "      display: none;\n",
              "      fill: #1967D2;\n",
              "      height: 32px;\n",
              "      padding: 0 0 0 0;\n",
              "      width: 32px;\n",
              "    }\n",
              "\n",
              "    .colab-df-convert:hover {\n",
              "      background-color: #E2EBFA;\n",
              "      box-shadow: 0px 1px 2px rgba(60, 64, 67, 0.3), 0px 1px 3px 1px rgba(60, 64, 67, 0.15);\n",
              "      fill: #174EA6;\n",
              "    }\n",
              "\n",
              "    [theme=dark] .colab-df-convert {\n",
              "      background-color: #3B4455;\n",
              "      fill: #D2E3FC;\n",
              "    }\n",
              "\n",
              "    [theme=dark] .colab-df-convert:hover {\n",
              "      background-color: #434B5C;\n",
              "      box-shadow: 0px 1px 3px 1px rgba(0, 0, 0, 0.15);\n",
              "      filter: drop-shadow(0px 1px 2px rgba(0, 0, 0, 0.3));\n",
              "      fill: #FFFFFF;\n",
              "    }\n",
              "  </style>\n",
              "\n",
              "      <script>\n",
              "        const buttonEl =\n",
              "          document.querySelector('#df-40fc9b9b-cf47-49f2-9baa-c9c210730973 button.colab-df-convert');\n",
              "        buttonEl.style.display =\n",
              "          google.colab.kernel.accessAllowed ? 'block' : 'none';\n",
              "\n",
              "        async function convertToInteractive(key) {\n",
              "          const element = document.querySelector('#df-40fc9b9b-cf47-49f2-9baa-c9c210730973');\n",
              "          const dataTable =\n",
              "            await google.colab.kernel.invokeFunction('convertToInteractive',\n",
              "                                                     [key], {});\n",
              "          if (!dataTable) return;\n",
              "\n",
              "          const docLinkHtml = 'Like what you see? Visit the ' +\n",
              "            '<a target=\"_blank\" href=https://colab.research.google.com/notebooks/data_table.ipynb>data table notebook</a>'\n",
              "            + ' to learn more about interactive tables.';\n",
              "          element.innerHTML = '';\n",
              "          dataTable['output_type'] = 'display_data';\n",
              "          await google.colab.output.renderOutput(dataTable, element);\n",
              "          const docLink = document.createElement('div');\n",
              "          docLink.innerHTML = docLinkHtml;\n",
              "          element.appendChild(docLink);\n",
              "        }\n",
              "      </script>\n",
              "    </div>\n",
              "  </div>\n",
              "  "
            ]
          },
          "metadata": {},
          "execution_count": 144
        }
      ]
    },
    {
      "cell_type": "code",
      "source": [],
      "metadata": {
        "id": "zP3-3WyXLtiW"
      },
      "execution_count": null,
      "outputs": []
    }
  ]
}