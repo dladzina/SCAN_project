{
  "nbformat": 4,
  "nbformat_minor": 0,
  "metadata": {
    "colab": {
      "provenance": [],
      "collapsed_sections": [
        "7sL5Bz_l7nLr"
      ],
      "authorship_tag": "ABX9TyNARXeXRuXaE5TcFlRRwGVw",
      "include_colab_link": true
    },
    "kernelspec": {
      "name": "python3",
      "display_name": "Python 3"
    },
    "language_info": {
      "name": "python"
    }
  },
  "cells": [
    {
      "cell_type": "markdown",
      "metadata": {
        "id": "view-in-github",
        "colab_type": "text"
      },
      "source": [
        "<a href=\"https://colab.research.google.com/github/aleksandr329/SCAN_project/blob/Anna_branch/SCAN_%D0%BE%D1%82%D0%BA%D1%80%D1%8B%D1%82%D0%B8%D0%B5_%D1%84%D0%B0%D0%B9%D0%BB%D0%B0.ipynb\" target=\"_parent\"><img src=\"https://colab.research.google.com/assets/colab-badge.svg\" alt=\"Open In Colab\"/></a>"
      ]
    },
    {
      "cell_type": "code",
      "execution_count": 247,
      "metadata": {
        "id": "MrDdh8qGYPiX"
      },
      "outputs": [],
      "source": [
        "import pandas as pd\n",
        "import json\n",
        "from pprint import pprint\n",
        "import re\n",
        "from collections import Counter"
      ]
    },
    {
      "cell_type": "markdown",
      "source": [
        "# Открытие датасета."
      ],
      "metadata": {
        "id": "WIoZRPnu7BUa"
      }
    },
    {
      "cell_type": "code",
      "source": [
        "# для открытия и чтения файла с данным c Google.Drive через Google.Colab\n",
        "\n",
        "from google.colab import drive\n",
        "drive.mount('/content/drive')\n",
        "path_DF = '/content/drive/MyDrive/Data_Science/Хакатон_SCAN/Queries.txt'"
      ],
      "metadata": {
        "colab": {
          "base_uri": "https://localhost:8080/"
        },
        "id": "aPTtLbhzYVfr",
        "outputId": "8a478216-c0f6-4d4e-bbf4-89a377330b81"
      },
      "execution_count": 2,
      "outputs": [
        {
          "output_type": "stream",
          "name": "stdout",
          "text": [
            "Mounted at /content/drive\n"
          ]
        }
      ]
    },
    {
      "cell_type": "code",
      "source": [
        "# В файле Queries.txt приведено множество поисковых запросов клиентов продукта СКАН\n",
        "# (формат: UserId Query - разделитель табуляция).\n",
        "\n",
        "data = pd.read_csv(path_DF, sep='\\t', header=None, names=['UserId', 'Query'])\n",
        "data.head()"
      ],
      "metadata": {
        "colab": {
          "base_uri": "https://localhost:8080/",
          "height": 206
        },
        "id": "yv_fBUZIZGDU",
        "outputId": "6ee6efc7-307e-45ea-c3ce-402dde0f53c1"
      },
      "execution_count": 3,
      "outputs": [
        {
          "output_type": "execute_result",
          "data": {
            "text/plain": [
              "                                 UserId  \\\n",
              "0  00000000-0000-0000-0000-000000000000   \n",
              "1  00000000-0000-0000-0000-000000000000   \n",
              "2  00000000-0000-0000-0000-000000000000   \n",
              "3  00000000-0000-0000-0000-000000000000   \n",
              "4  00000000-0000-0000-0000-000000000000   \n",
              "\n",
              "                                               Query  \n",
              "0  ((Text(\"речные круизы\")) AND (Metadata(SourceC...  \n",
              "1  ((Text(\"Поезд\")) AND (Metadata(SourceCategory(...  \n",
              "2  ((((Exact(Text(\"Яндекс.Директ\")))) OR ((Text(\"...  \n",
              "3  ((Text(\"отели\")) AND ((Metadata(SourceTopic({3...  \n",
              "4  ((((Text(\"российских\"))) OR ((Location(Id(4C8B...  "
            ],
            "text/html": [
              "\n",
              "  <div id=\"df-8655b0f9-162c-4ad6-9a53-b5f0b4d5459e\">\n",
              "    <div class=\"colab-df-container\">\n",
              "      <div>\n",
              "<style scoped>\n",
              "    .dataframe tbody tr th:only-of-type {\n",
              "        vertical-align: middle;\n",
              "    }\n",
              "\n",
              "    .dataframe tbody tr th {\n",
              "        vertical-align: top;\n",
              "    }\n",
              "\n",
              "    .dataframe thead th {\n",
              "        text-align: right;\n",
              "    }\n",
              "</style>\n",
              "<table border=\"1\" class=\"dataframe\">\n",
              "  <thead>\n",
              "    <tr style=\"text-align: right;\">\n",
              "      <th></th>\n",
              "      <th>UserId</th>\n",
              "      <th>Query</th>\n",
              "    </tr>\n",
              "  </thead>\n",
              "  <tbody>\n",
              "    <tr>\n",
              "      <th>0</th>\n",
              "      <td>00000000-0000-0000-0000-000000000000</td>\n",
              "      <td>((Text(\"речные круизы\")) AND (Metadata(SourceC...</td>\n",
              "    </tr>\n",
              "    <tr>\n",
              "      <th>1</th>\n",
              "      <td>00000000-0000-0000-0000-000000000000</td>\n",
              "      <td>((Text(\"Поезд\")) AND (Metadata(SourceCategory(...</td>\n",
              "    </tr>\n",
              "    <tr>\n",
              "      <th>2</th>\n",
              "      <td>00000000-0000-0000-0000-000000000000</td>\n",
              "      <td>((((Exact(Text(\"Яндекс.Директ\")))) OR ((Text(\"...</td>\n",
              "    </tr>\n",
              "    <tr>\n",
              "      <th>3</th>\n",
              "      <td>00000000-0000-0000-0000-000000000000</td>\n",
              "      <td>((Text(\"отели\")) AND ((Metadata(SourceTopic({3...</td>\n",
              "    </tr>\n",
              "    <tr>\n",
              "      <th>4</th>\n",
              "      <td>00000000-0000-0000-0000-000000000000</td>\n",
              "      <td>((((Text(\"российских\"))) OR ((Location(Id(4C8B...</td>\n",
              "    </tr>\n",
              "  </tbody>\n",
              "</table>\n",
              "</div>\n",
              "      <button class=\"colab-df-convert\" onclick=\"convertToInteractive('df-8655b0f9-162c-4ad6-9a53-b5f0b4d5459e')\"\n",
              "              title=\"Convert this dataframe to an interactive table.\"\n",
              "              style=\"display:none;\">\n",
              "        \n",
              "  <svg xmlns=\"http://www.w3.org/2000/svg\" height=\"24px\"viewBox=\"0 0 24 24\"\n",
              "       width=\"24px\">\n",
              "    <path d=\"M0 0h24v24H0V0z\" fill=\"none\"/>\n",
              "    <path d=\"M18.56 5.44l.94 2.06.94-2.06 2.06-.94-2.06-.94-.94-2.06-.94 2.06-2.06.94zm-11 1L8.5 8.5l.94-2.06 2.06-.94-2.06-.94L8.5 2.5l-.94 2.06-2.06.94zm10 10l.94 2.06.94-2.06 2.06-.94-2.06-.94-.94-2.06-.94 2.06-2.06.94z\"/><path d=\"M17.41 7.96l-1.37-1.37c-.4-.4-.92-.59-1.43-.59-.52 0-1.04.2-1.43.59L10.3 9.45l-7.72 7.72c-.78.78-.78 2.05 0 2.83L4 21.41c.39.39.9.59 1.41.59.51 0 1.02-.2 1.41-.59l7.78-7.78 2.81-2.81c.8-.78.8-2.07 0-2.86zM5.41 20L4 18.59l7.72-7.72 1.47 1.35L5.41 20z\"/>\n",
              "  </svg>\n",
              "      </button>\n",
              "      \n",
              "  <style>\n",
              "    .colab-df-container {\n",
              "      display:flex;\n",
              "      flex-wrap:wrap;\n",
              "      gap: 12px;\n",
              "    }\n",
              "\n",
              "    .colab-df-convert {\n",
              "      background-color: #E8F0FE;\n",
              "      border: none;\n",
              "      border-radius: 50%;\n",
              "      cursor: pointer;\n",
              "      display: none;\n",
              "      fill: #1967D2;\n",
              "      height: 32px;\n",
              "      padding: 0 0 0 0;\n",
              "      width: 32px;\n",
              "    }\n",
              "\n",
              "    .colab-df-convert:hover {\n",
              "      background-color: #E2EBFA;\n",
              "      box-shadow: 0px 1px 2px rgba(60, 64, 67, 0.3), 0px 1px 3px 1px rgba(60, 64, 67, 0.15);\n",
              "      fill: #174EA6;\n",
              "    }\n",
              "\n",
              "    [theme=dark] .colab-df-convert {\n",
              "      background-color: #3B4455;\n",
              "      fill: #D2E3FC;\n",
              "    }\n",
              "\n",
              "    [theme=dark] .colab-df-convert:hover {\n",
              "      background-color: #434B5C;\n",
              "      box-shadow: 0px 1px 3px 1px rgba(0, 0, 0, 0.15);\n",
              "      filter: drop-shadow(0px 1px 2px rgba(0, 0, 0, 0.3));\n",
              "      fill: #FFFFFF;\n",
              "    }\n",
              "  </style>\n",
              "\n",
              "      <script>\n",
              "        const buttonEl =\n",
              "          document.querySelector('#df-8655b0f9-162c-4ad6-9a53-b5f0b4d5459e button.colab-df-convert');\n",
              "        buttonEl.style.display =\n",
              "          google.colab.kernel.accessAllowed ? 'block' : 'none';\n",
              "\n",
              "        async function convertToInteractive(key) {\n",
              "          const element = document.querySelector('#df-8655b0f9-162c-4ad6-9a53-b5f0b4d5459e');\n",
              "          const dataTable =\n",
              "            await google.colab.kernel.invokeFunction('convertToInteractive',\n",
              "                                                     [key], {});\n",
              "          if (!dataTable) return;\n",
              "\n",
              "          const docLinkHtml = 'Like what you see? Visit the ' +\n",
              "            '<a target=\"_blank\" href=https://colab.research.google.com/notebooks/data_table.ipynb>data table notebook</a>'\n",
              "            + ' to learn more about interactive tables.';\n",
              "          element.innerHTML = '';\n",
              "          dataTable['output_type'] = 'display_data';\n",
              "          await google.colab.output.renderOutput(dataTable, element);\n",
              "          const docLink = document.createElement('div');\n",
              "          docLink.innerHTML = docLinkHtml;\n",
              "          element.appendChild(docLink);\n",
              "        }\n",
              "      </script>\n",
              "    </div>\n",
              "  </div>\n",
              "  "
            ]
          },
          "metadata": {},
          "execution_count": 3
        }
      ]
    },
    {
      "cell_type": "code",
      "source": [
        "data.info()"
      ],
      "metadata": {
        "colab": {
          "base_uri": "https://localhost:8080/"
        },
        "id": "ohQoqpDsudql",
        "outputId": "6505c000-9a40-44dc-d555-c6f91eb7afa2"
      },
      "execution_count": 4,
      "outputs": [
        {
          "output_type": "stream",
          "name": "stdout",
          "text": [
            "<class 'pandas.core.frame.DataFrame'>\n",
            "RangeIndex: 28371 entries, 0 to 28370\n",
            "Data columns (total 2 columns):\n",
            " #   Column  Non-Null Count  Dtype \n",
            "---  ------  --------------  ----- \n",
            " 0   UserId  28371 non-null  object\n",
            " 1   Query   28371 non-null  object\n",
            "dtypes: object(2)\n",
            "memory usage: 443.4+ KB\n"
          ]
        }
      ]
    },
    {
      "cell_type": "code",
      "source": [
        "data.describe(include=object)"
      ],
      "metadata": {
        "colab": {
          "base_uri": "https://localhost:8080/",
          "height": 174
        },
        "id": "BdB8Fks9xmNt",
        "outputId": "e887c214-5644-4985-c171-8245dfe0dced"
      },
      "execution_count": 5,
      "outputs": [
        {
          "output_type": "execute_result",
          "data": {
            "text/plain": [
              "                                      UserId  \\\n",
              "count                                  28371   \n",
              "unique                                  1085   \n",
              "top     00000000-0000-0000-0000-000000000000   \n",
              "freq                                    2219   \n",
              "\n",
              "                                                    Query  \n",
              "count                                               28371  \n",
              "unique                                              27593  \n",
              "top     ((Exact(Text(\"9ff8d3d3-7624-490e-acd8-bfb2e3cf...  \n",
              "freq                                                    7  "
            ],
            "text/html": [
              "\n",
              "  <div id=\"df-03a0d623-cab2-4300-8ed7-d53a7bacabba\">\n",
              "    <div class=\"colab-df-container\">\n",
              "      <div>\n",
              "<style scoped>\n",
              "    .dataframe tbody tr th:only-of-type {\n",
              "        vertical-align: middle;\n",
              "    }\n",
              "\n",
              "    .dataframe tbody tr th {\n",
              "        vertical-align: top;\n",
              "    }\n",
              "\n",
              "    .dataframe thead th {\n",
              "        text-align: right;\n",
              "    }\n",
              "</style>\n",
              "<table border=\"1\" class=\"dataframe\">\n",
              "  <thead>\n",
              "    <tr style=\"text-align: right;\">\n",
              "      <th></th>\n",
              "      <th>UserId</th>\n",
              "      <th>Query</th>\n",
              "    </tr>\n",
              "  </thead>\n",
              "  <tbody>\n",
              "    <tr>\n",
              "      <th>count</th>\n",
              "      <td>28371</td>\n",
              "      <td>28371</td>\n",
              "    </tr>\n",
              "    <tr>\n",
              "      <th>unique</th>\n",
              "      <td>1085</td>\n",
              "      <td>27593</td>\n",
              "    </tr>\n",
              "    <tr>\n",
              "      <th>top</th>\n",
              "      <td>00000000-0000-0000-0000-000000000000</td>\n",
              "      <td>((Exact(Text(\"9ff8d3d3-7624-490e-acd8-bfb2e3cf...</td>\n",
              "    </tr>\n",
              "    <tr>\n",
              "      <th>freq</th>\n",
              "      <td>2219</td>\n",
              "      <td>7</td>\n",
              "    </tr>\n",
              "  </tbody>\n",
              "</table>\n",
              "</div>\n",
              "      <button class=\"colab-df-convert\" onclick=\"convertToInteractive('df-03a0d623-cab2-4300-8ed7-d53a7bacabba')\"\n",
              "              title=\"Convert this dataframe to an interactive table.\"\n",
              "              style=\"display:none;\">\n",
              "        \n",
              "  <svg xmlns=\"http://www.w3.org/2000/svg\" height=\"24px\"viewBox=\"0 0 24 24\"\n",
              "       width=\"24px\">\n",
              "    <path d=\"M0 0h24v24H0V0z\" fill=\"none\"/>\n",
              "    <path d=\"M18.56 5.44l.94 2.06.94-2.06 2.06-.94-2.06-.94-.94-2.06-.94 2.06-2.06.94zm-11 1L8.5 8.5l.94-2.06 2.06-.94-2.06-.94L8.5 2.5l-.94 2.06-2.06.94zm10 10l.94 2.06.94-2.06 2.06-.94-2.06-.94-.94-2.06-.94 2.06-2.06.94z\"/><path d=\"M17.41 7.96l-1.37-1.37c-.4-.4-.92-.59-1.43-.59-.52 0-1.04.2-1.43.59L10.3 9.45l-7.72 7.72c-.78.78-.78 2.05 0 2.83L4 21.41c.39.39.9.59 1.41.59.51 0 1.02-.2 1.41-.59l7.78-7.78 2.81-2.81c.8-.78.8-2.07 0-2.86zM5.41 20L4 18.59l7.72-7.72 1.47 1.35L5.41 20z\"/>\n",
              "  </svg>\n",
              "      </button>\n",
              "      \n",
              "  <style>\n",
              "    .colab-df-container {\n",
              "      display:flex;\n",
              "      flex-wrap:wrap;\n",
              "      gap: 12px;\n",
              "    }\n",
              "\n",
              "    .colab-df-convert {\n",
              "      background-color: #E8F0FE;\n",
              "      border: none;\n",
              "      border-radius: 50%;\n",
              "      cursor: pointer;\n",
              "      display: none;\n",
              "      fill: #1967D2;\n",
              "      height: 32px;\n",
              "      padding: 0 0 0 0;\n",
              "      width: 32px;\n",
              "    }\n",
              "\n",
              "    .colab-df-convert:hover {\n",
              "      background-color: #E2EBFA;\n",
              "      box-shadow: 0px 1px 2px rgba(60, 64, 67, 0.3), 0px 1px 3px 1px rgba(60, 64, 67, 0.15);\n",
              "      fill: #174EA6;\n",
              "    }\n",
              "\n",
              "    [theme=dark] .colab-df-convert {\n",
              "      background-color: #3B4455;\n",
              "      fill: #D2E3FC;\n",
              "    }\n",
              "\n",
              "    [theme=dark] .colab-df-convert:hover {\n",
              "      background-color: #434B5C;\n",
              "      box-shadow: 0px 1px 3px 1px rgba(0, 0, 0, 0.15);\n",
              "      filter: drop-shadow(0px 1px 2px rgba(0, 0, 0, 0.3));\n",
              "      fill: #FFFFFF;\n",
              "    }\n",
              "  </style>\n",
              "\n",
              "      <script>\n",
              "        const buttonEl =\n",
              "          document.querySelector('#df-03a0d623-cab2-4300-8ed7-d53a7bacabba button.colab-df-convert');\n",
              "        buttonEl.style.display =\n",
              "          google.colab.kernel.accessAllowed ? 'block' : 'none';\n",
              "\n",
              "        async function convertToInteractive(key) {\n",
              "          const element = document.querySelector('#df-03a0d623-cab2-4300-8ed7-d53a7bacabba');\n",
              "          const dataTable =\n",
              "            await google.colab.kernel.invokeFunction('convertToInteractive',\n",
              "                                                     [key], {});\n",
              "          if (!dataTable) return;\n",
              "\n",
              "          const docLinkHtml = 'Like what you see? Visit the ' +\n",
              "            '<a target=\"_blank\" href=https://colab.research.google.com/notebooks/data_table.ipynb>data table notebook</a>'\n",
              "            + ' to learn more about interactive tables.';\n",
              "          element.innerHTML = '';\n",
              "          dataTable['output_type'] = 'display_data';\n",
              "          await google.colab.output.renderOutput(dataTable, element);\n",
              "          const docLink = document.createElement('div');\n",
              "          docLink.innerHTML = docLinkHtml;\n",
              "          element.appendChild(docLink);\n",
              "        }\n",
              "      </script>\n",
              "    </div>\n",
              "  </div>\n",
              "  "
            ]
          },
          "metadata": {},
          "execution_count": 5
        }
      ]
    },
    {
      "cell_type": "code",
      "source": [
        "print(f'Найдено дубликатов: {data.duplicated().sum()}')\n",
        "print(f'Найдено пропусков в данных:\\n {data.isna().sum()}')"
      ],
      "metadata": {
        "colab": {
          "base_uri": "https://localhost:8080/"
        },
        "id": "q04LOyeiukdr",
        "outputId": "01e57cb4-7429-4a49-f907-b6cbc49c6d2b"
      },
      "execution_count": 6,
      "outputs": [
        {
          "output_type": "stream",
          "name": "stdout",
          "text": [
            "Найдено дубликатов: 0\n",
            "Найдено пропусков в данных:\n",
            " UserId    0\n",
            "Query     0\n",
            "dtype: int64\n"
          ]
        }
      ]
    },
    {
      "cell_type": "markdown",
      "source": [
        "# Открытие json."
      ],
      "metadata": {
        "id": "JeoEgqCk6_5c"
      }
    },
    {
      "cell_type": "code",
      "source": [
        "from google.colab import drive\n",
        "drive.mount('/content/drive')\n",
        "path_JSON = '/content/drive/MyDrive/Data_Science/Хакатон_SCAN/ThemesWordClouds.json'"
      ],
      "metadata": {
        "colab": {
          "base_uri": "https://localhost:8080/"
        },
        "id": "QY4H-Q3J7S_M",
        "outputId": "d7a997ab-de78-46bd-bb99-8725b45b962d"
      },
      "execution_count": 7,
      "outputs": [
        {
          "output_type": "stream",
          "name": "stdout",
          "text": [
            "Drive already mounted at /content/drive; to attempt to forcibly remount, call drive.mount(\"/content/drive\", force_remount=True).\n"
          ]
        }
      ]
    },
    {
      "cell_type": "code",
      "source": [
        "\n",
        "with open(path_JSON) as f:                     # Открываем файл и связываем его с объектом \"f\"\n",
        "  words_clouds_data = json.load(f)                           # Загружаем содержимое открытого файла в переменную words_clouds_data\n",
        "\n",
        "# Открываем как датафрейм\n",
        "#wc_data = pd.DataFrame(words_clouds_data)\n",
        "\n",
        "pprint(words_clouds_data[15]['WordCloud'])   #Ключей 572 (от 0 до 571)"
      ],
      "metadata": {
        "id": "IVUQMzA_qcKa",
        "colab": {
          "base_uri": "https://localhost:8080/"
        },
        "outputId": "4eacfae8-d407-469b-d2fd-039a07d57280"
      },
      "execution_count": 8,
      "outputs": [
        {
          "output_type": "stream",
          "name": "stdout",
          "text": [
            "['займы',\n",
            " 'кредиты',\n",
            " 'кредит',\n",
            " 'заем',\n",
            " 'ссуда',\n",
            " 'кредитный',\n",
            " 'кредитование',\n",
            " 'программа',\n",
            " 'линия',\n",
            " 'предложение',\n",
            " 'пакет',\n",
            " 'портфель',\n",
            " 'договор',\n",
            " 'соглашение',\n",
            " 'фабрика',\n",
            " 'сервис',\n",
            " 'сумма',\n",
            " 'объем',\n",
            " 'получение',\n",
            " 'кредита',\n",
            " 'получить',\n",
            " 'привлечь',\n",
            " 'банки',\n",
            " 'банк']\n"
          ]
        }
      ]
    },
    {
      "cell_type": "code",
      "source": [
        "wc_data = pd.DataFrame(words_clouds_data)\n",
        "wc_data.head()"
      ],
      "metadata": {
        "colab": {
          "base_uri": "https://localhost:8080/",
          "height": 206
        },
        "id": "DXzcxKJqznzk",
        "outputId": "221ce12b-a09e-4e8f-d570-a4407da308e6"
      },
      "execution_count": 9,
      "outputs": [
        {
          "output_type": "execute_result",
          "data": {
            "text/plain": [
              "                                    Theme  \\\n",
              "0  Письма, указы, заявления от госорганов   \n",
              "1                                   Истец   \n",
              "2                                Ответчик   \n",
              "3                              Преступник   \n",
              "4                     Потерпевшая сторона   \n",
              "\n",
              "                                           WordCloud  \n",
              "0  [письмо, указ, поправка, заявление, сообщение,...  \n",
              "1  [истец, после, основании, иск, иск, суд, требо...  \n",
              "2  [против, ответчик, иск, действие, поведение, с...  \n",
              "3  [преступник, уличить, уличать, разыскивать, об...  \n",
              "4  [потерпевшая, сторона, покушение, нападение, о...  "
            ],
            "text/html": [
              "\n",
              "  <div id=\"df-0ae4c50d-9fe7-45d1-a18a-cfb02a00d7c1\">\n",
              "    <div class=\"colab-df-container\">\n",
              "      <div>\n",
              "<style scoped>\n",
              "    .dataframe tbody tr th:only-of-type {\n",
              "        vertical-align: middle;\n",
              "    }\n",
              "\n",
              "    .dataframe tbody tr th {\n",
              "        vertical-align: top;\n",
              "    }\n",
              "\n",
              "    .dataframe thead th {\n",
              "        text-align: right;\n",
              "    }\n",
              "</style>\n",
              "<table border=\"1\" class=\"dataframe\">\n",
              "  <thead>\n",
              "    <tr style=\"text-align: right;\">\n",
              "      <th></th>\n",
              "      <th>Theme</th>\n",
              "      <th>WordCloud</th>\n",
              "    </tr>\n",
              "  </thead>\n",
              "  <tbody>\n",
              "    <tr>\n",
              "      <th>0</th>\n",
              "      <td>Письма, указы, заявления от госорганов</td>\n",
              "      <td>[письмо, указ, поправка, заявление, сообщение,...</td>\n",
              "    </tr>\n",
              "    <tr>\n",
              "      <th>1</th>\n",
              "      <td>Истец</td>\n",
              "      <td>[истец, после, основании, иск, иск, суд, требо...</td>\n",
              "    </tr>\n",
              "    <tr>\n",
              "      <th>2</th>\n",
              "      <td>Ответчик</td>\n",
              "      <td>[против, ответчик, иск, действие, поведение, с...</td>\n",
              "    </tr>\n",
              "    <tr>\n",
              "      <th>3</th>\n",
              "      <td>Преступник</td>\n",
              "      <td>[преступник, уличить, уличать, разыскивать, об...</td>\n",
              "    </tr>\n",
              "    <tr>\n",
              "      <th>4</th>\n",
              "      <td>Потерпевшая сторона</td>\n",
              "      <td>[потерпевшая, сторона, покушение, нападение, о...</td>\n",
              "    </tr>\n",
              "  </tbody>\n",
              "</table>\n",
              "</div>\n",
              "      <button class=\"colab-df-convert\" onclick=\"convertToInteractive('df-0ae4c50d-9fe7-45d1-a18a-cfb02a00d7c1')\"\n",
              "              title=\"Convert this dataframe to an interactive table.\"\n",
              "              style=\"display:none;\">\n",
              "        \n",
              "  <svg xmlns=\"http://www.w3.org/2000/svg\" height=\"24px\"viewBox=\"0 0 24 24\"\n",
              "       width=\"24px\">\n",
              "    <path d=\"M0 0h24v24H0V0z\" fill=\"none\"/>\n",
              "    <path d=\"M18.56 5.44l.94 2.06.94-2.06 2.06-.94-2.06-.94-.94-2.06-.94 2.06-2.06.94zm-11 1L8.5 8.5l.94-2.06 2.06-.94-2.06-.94L8.5 2.5l-.94 2.06-2.06.94zm10 10l.94 2.06.94-2.06 2.06-.94-2.06-.94-.94-2.06-.94 2.06-2.06.94z\"/><path d=\"M17.41 7.96l-1.37-1.37c-.4-.4-.92-.59-1.43-.59-.52 0-1.04.2-1.43.59L10.3 9.45l-7.72 7.72c-.78.78-.78 2.05 0 2.83L4 21.41c.39.39.9.59 1.41.59.51 0 1.02-.2 1.41-.59l7.78-7.78 2.81-2.81c.8-.78.8-2.07 0-2.86zM5.41 20L4 18.59l7.72-7.72 1.47 1.35L5.41 20z\"/>\n",
              "  </svg>\n",
              "      </button>\n",
              "      \n",
              "  <style>\n",
              "    .colab-df-container {\n",
              "      display:flex;\n",
              "      flex-wrap:wrap;\n",
              "      gap: 12px;\n",
              "    }\n",
              "\n",
              "    .colab-df-convert {\n",
              "      background-color: #E8F0FE;\n",
              "      border: none;\n",
              "      border-radius: 50%;\n",
              "      cursor: pointer;\n",
              "      display: none;\n",
              "      fill: #1967D2;\n",
              "      height: 32px;\n",
              "      padding: 0 0 0 0;\n",
              "      width: 32px;\n",
              "    }\n",
              "\n",
              "    .colab-df-convert:hover {\n",
              "      background-color: #E2EBFA;\n",
              "      box-shadow: 0px 1px 2px rgba(60, 64, 67, 0.3), 0px 1px 3px 1px rgba(60, 64, 67, 0.15);\n",
              "      fill: #174EA6;\n",
              "    }\n",
              "\n",
              "    [theme=dark] .colab-df-convert {\n",
              "      background-color: #3B4455;\n",
              "      fill: #D2E3FC;\n",
              "    }\n",
              "\n",
              "    [theme=dark] .colab-df-convert:hover {\n",
              "      background-color: #434B5C;\n",
              "      box-shadow: 0px 1px 3px 1px rgba(0, 0, 0, 0.15);\n",
              "      filter: drop-shadow(0px 1px 2px rgba(0, 0, 0, 0.3));\n",
              "      fill: #FFFFFF;\n",
              "    }\n",
              "  </style>\n",
              "\n",
              "      <script>\n",
              "        const buttonEl =\n",
              "          document.querySelector('#df-0ae4c50d-9fe7-45d1-a18a-cfb02a00d7c1 button.colab-df-convert');\n",
              "        buttonEl.style.display =\n",
              "          google.colab.kernel.accessAllowed ? 'block' : 'none';\n",
              "\n",
              "        async function convertToInteractive(key) {\n",
              "          const element = document.querySelector('#df-0ae4c50d-9fe7-45d1-a18a-cfb02a00d7c1');\n",
              "          const dataTable =\n",
              "            await google.colab.kernel.invokeFunction('convertToInteractive',\n",
              "                                                     [key], {});\n",
              "          if (!dataTable) return;\n",
              "\n",
              "          const docLinkHtml = 'Like what you see? Visit the ' +\n",
              "            '<a target=\"_blank\" href=https://colab.research.google.com/notebooks/data_table.ipynb>data table notebook</a>'\n",
              "            + ' to learn more about interactive tables.';\n",
              "          element.innerHTML = '';\n",
              "          dataTable['output_type'] = 'display_data';\n",
              "          await google.colab.output.renderOutput(dataTable, element);\n",
              "          const docLink = document.createElement('div');\n",
              "          docLink.innerHTML = docLinkHtml;\n",
              "          element.appendChild(docLink);\n",
              "        }\n",
              "      </script>\n",
              "    </div>\n",
              "  </div>\n",
              "  "
            ]
          },
          "metadata": {},
          "execution_count": 9
        }
      ]
    },
    {
      "cell_type": "code",
      "source": [
        "print(f'Количество уникальных тематик в облаках слов: {wc_data.Theme.nunique()}')"
      ],
      "metadata": {
        "id": "QAm3Uaoz1DDQ",
        "colab": {
          "base_uri": "https://localhost:8080/"
        },
        "outputId": "433564fa-b882-4401-9f2f-eb492a2666a6"
      },
      "execution_count": 248,
      "outputs": [
        {
          "output_type": "stream",
          "name": "stdout",
          "text": [
            "Количество уникальных тематик в облаках слов: 572\n"
          ]
        }
      ]
    },
    {
      "cell_type": "markdown",
      "source": [
        "# Прочее."
      ],
      "metadata": {
        "id": "7sL5Bz_l7nLr"
      }
    },
    {
      "cell_type": "code",
      "source": [
        "# Фразовые запросы\n",
        "\n",
        "phrase_queries = ['OrderedText', 'Text', 'OrderedWildcard', 'Wildcard',\n",
        "                  'OrderedTextAnyDistance', 'InSameSentence', 'InSameParagraph',\n",
        "                  'Exact']\n",
        "\n",
        "# Запросы объектов и размерных величин\n",
        "mesure_queries = ['Id', 'Metadata', 'Name', 'Org', 'Location', 'Trademark',\n",
        "                  'IndustrialSector', 'IndustrialSectorPositiveTonality',\n",
        "                  'IndustrialSectorNegativeTonality', 'NewsCluster', 'Date',\n",
        "                  'Dim', 'AuthorName']\n",
        "\n",
        "# Запросы фактов, рубрик и прямой речи\n",
        "fact_queries = ['Speech', 'Event', 'Subject', 'EventType']\n",
        "\n",
        "# Запросы источников\n",
        "source_queries = ['Source', 'SourceLevel', 'SourceCategory', 'SourceRegion', 'SourceTopic']\n",
        "\n",
        "# Остальное\n",
        "others_queries = ['Language', 'DocumentType']"
      ],
      "metadata": {
        "id": "NhCHk7JIwgIL"
      },
      "execution_count": null,
      "outputs": []
    },
    {
      "cell_type": "markdown",
      "source": [
        "# Извлечение текста запроса (в работе)."
      ],
      "metadata": {
        "id": "fX07ScJa8EC7"
      }
    },
    {
      "cell_type": "code",
      "source": [
        "df = data.copy()"
      ],
      "metadata": {
        "id": "utWba8Pw73IC"
      },
      "execution_count": 165,
      "outputs": []
    },
    {
      "cell_type": "code",
      "source": [
        "# удаляем скобки и заменяем пробелами\n",
        "df['Query'] = df['Query'].apply(lambda query: query.replace('(', ' '))\n",
        "df['Query'] = df['Query'].apply(lambda query: query.replace(')', ' '))"
      ],
      "metadata": {
        "id": "L7K2jdYe09WN"
      },
      "execution_count": 166,
      "outputs": []
    },
    {
      "cell_type": "code",
      "source": [
        "# выделение текста запроса через регулярку. Возможно, ее можно доработать.\n",
        "# не организации, не персоны, не локации = ['Org', 'Name', 'Location']\n",
        "\n",
        "def get_txt(query):\n",
        "  query.split(' ')\n",
        "  pattern = r'[\"]\\S+\\s*\\S+\\s*\\S+[\"]'       #до 3 слов\n",
        "  result = re.findall(pattern, query)\n",
        "  return result\n",
        "\n",
        "\n",
        "df['Text'] = df['Query'].apply(lambda query: get_txt(query)).astype(str)\n"
      ],
      "metadata": {
        "id": "1TY7e7eGjjZq"
      },
      "execution_count": 167,
      "outputs": []
    },
    {
      "cell_type": "code",
      "source": [
        "df['Text'] = df['Text'].apply(lambda x: x.split(','))             # делим строку по запятой\n",
        "df = df.explode('Text', ignore_index=True)                        # переносим текст на новую строку\n",
        "df['Text'] = df['Text'].astype(str)"
      ],
      "metadata": {
        "id": "ldgpmrDKD6LL"
      },
      "execution_count": 168,
      "outputs": []
    },
    {
      "cell_type": "code",
      "source": [
        "def edit_text(text):\n",
        "  '''Функция, удаляющая знаки, которые не входят в состав фразы '''\n",
        "  del_symbols = ['[', ']', '\"', \"'\", '”', '“', '#', '*', '•t', '•txxx']\n",
        "  for symbol in del_symbols:\n",
        "    text = text.replace(symbol, '')\n",
        "  return text\n",
        "\n",
        "df['Text'] = df['Text'].apply(lambda text: edit_text(text))"
      ],
      "metadata": {
        "id": "iTTO08QGFmf6"
      },
      "execution_count": 169,
      "outputs": []
    },
    {
      "cell_type": "code",
      "source": [
        " # удаляем строки с пустыми запросами\n",
        " del_index = list(df[df.Text == ''].index)\n",
        " df = df.drop(index=del_index)"
      ],
      "metadata": {
        "id": "pGO17LMrzqcf"
      },
      "execution_count": 171,
      "outputs": []
    },
    {
      "cell_type": "code",
      "source": [
        "df.sample()"
      ],
      "metadata": {
        "colab": {
          "base_uri": "https://localhost:8080/",
          "height": 80
        },
        "id": "hETRiw9QdImO",
        "outputId": "e5c9684d-3f91-47a8-fed7-6445601c4d6c"
      },
      "execution_count": 246,
      "outputs": [
        {
          "output_type": "execute_result",
          "data": {
            "text/plain": [
              "                                      UserId  \\\n",
              "102217  2c208fd3-45ba-e811-81ed-9fe8589abf9b   \n",
              "\n",
              "                                                    Query  \\\n",
              "102217      Text \"жилищное строительство\"   OR  Text \"...   \n",
              "\n",
              "                            Text  \n",
              "102217   развитие инфраструктуры  "
            ],
            "text/html": [
              "\n",
              "  <div id=\"df-f618f0f7-6fd6-4424-ac01-ed078a619f48\">\n",
              "    <div class=\"colab-df-container\">\n",
              "      <div>\n",
              "<style scoped>\n",
              "    .dataframe tbody tr th:only-of-type {\n",
              "        vertical-align: middle;\n",
              "    }\n",
              "\n",
              "    .dataframe tbody tr th {\n",
              "        vertical-align: top;\n",
              "    }\n",
              "\n",
              "    .dataframe thead th {\n",
              "        text-align: right;\n",
              "    }\n",
              "</style>\n",
              "<table border=\"1\" class=\"dataframe\">\n",
              "  <thead>\n",
              "    <tr style=\"text-align: right;\">\n",
              "      <th></th>\n",
              "      <th>UserId</th>\n",
              "      <th>Query</th>\n",
              "      <th>Text</th>\n",
              "    </tr>\n",
              "  </thead>\n",
              "  <tbody>\n",
              "    <tr>\n",
              "      <th>102217</th>\n",
              "      <td>2c208fd3-45ba-e811-81ed-9fe8589abf9b</td>\n",
              "      <td>Text \"жилищное строительство\"   OR  Text \"...</td>\n",
              "      <td>развитие инфраструктуры</td>\n",
              "    </tr>\n",
              "  </tbody>\n",
              "</table>\n",
              "</div>\n",
              "      <button class=\"colab-df-convert\" onclick=\"convertToInteractive('df-f618f0f7-6fd6-4424-ac01-ed078a619f48')\"\n",
              "              title=\"Convert this dataframe to an interactive table.\"\n",
              "              style=\"display:none;\">\n",
              "        \n",
              "  <svg xmlns=\"http://www.w3.org/2000/svg\" height=\"24px\"viewBox=\"0 0 24 24\"\n",
              "       width=\"24px\">\n",
              "    <path d=\"M0 0h24v24H0V0z\" fill=\"none\"/>\n",
              "    <path d=\"M18.56 5.44l.94 2.06.94-2.06 2.06-.94-2.06-.94-.94-2.06-.94 2.06-2.06.94zm-11 1L8.5 8.5l.94-2.06 2.06-.94-2.06-.94L8.5 2.5l-.94 2.06-2.06.94zm10 10l.94 2.06.94-2.06 2.06-.94-2.06-.94-.94-2.06-.94 2.06-2.06.94z\"/><path d=\"M17.41 7.96l-1.37-1.37c-.4-.4-.92-.59-1.43-.59-.52 0-1.04.2-1.43.59L10.3 9.45l-7.72 7.72c-.78.78-.78 2.05 0 2.83L4 21.41c.39.39.9.59 1.41.59.51 0 1.02-.2 1.41-.59l7.78-7.78 2.81-2.81c.8-.78.8-2.07 0-2.86zM5.41 20L4 18.59l7.72-7.72 1.47 1.35L5.41 20z\"/>\n",
              "  </svg>\n",
              "      </button>\n",
              "      \n",
              "  <style>\n",
              "    .colab-df-container {\n",
              "      display:flex;\n",
              "      flex-wrap:wrap;\n",
              "      gap: 12px;\n",
              "    }\n",
              "\n",
              "    .colab-df-convert {\n",
              "      background-color: #E8F0FE;\n",
              "      border: none;\n",
              "      border-radius: 50%;\n",
              "      cursor: pointer;\n",
              "      display: none;\n",
              "      fill: #1967D2;\n",
              "      height: 32px;\n",
              "      padding: 0 0 0 0;\n",
              "      width: 32px;\n",
              "    }\n",
              "\n",
              "    .colab-df-convert:hover {\n",
              "      background-color: #E2EBFA;\n",
              "      box-shadow: 0px 1px 2px rgba(60, 64, 67, 0.3), 0px 1px 3px 1px rgba(60, 64, 67, 0.15);\n",
              "      fill: #174EA6;\n",
              "    }\n",
              "\n",
              "    [theme=dark] .colab-df-convert {\n",
              "      background-color: #3B4455;\n",
              "      fill: #D2E3FC;\n",
              "    }\n",
              "\n",
              "    [theme=dark] .colab-df-convert:hover {\n",
              "      background-color: #434B5C;\n",
              "      box-shadow: 0px 1px 3px 1px rgba(0, 0, 0, 0.15);\n",
              "      filter: drop-shadow(0px 1px 2px rgba(0, 0, 0, 0.3));\n",
              "      fill: #FFFFFF;\n",
              "    }\n",
              "  </style>\n",
              "\n",
              "      <script>\n",
              "        const buttonEl =\n",
              "          document.querySelector('#df-f618f0f7-6fd6-4424-ac01-ed078a619f48 button.colab-df-convert');\n",
              "        buttonEl.style.display =\n",
              "          google.colab.kernel.accessAllowed ? 'block' : 'none';\n",
              "\n",
              "        async function convertToInteractive(key) {\n",
              "          const element = document.querySelector('#df-f618f0f7-6fd6-4424-ac01-ed078a619f48');\n",
              "          const dataTable =\n",
              "            await google.colab.kernel.invokeFunction('convertToInteractive',\n",
              "                                                     [key], {});\n",
              "          if (!dataTable) return;\n",
              "\n",
              "          const docLinkHtml = 'Like what you see? Visit the ' +\n",
              "            '<a target=\"_blank\" href=https://colab.research.google.com/notebooks/data_table.ipynb>data table notebook</a>'\n",
              "            + ' to learn more about interactive tables.';\n",
              "          element.innerHTML = '';\n",
              "          dataTable['output_type'] = 'display_data';\n",
              "          await google.colab.output.renderOutput(dataTable, element);\n",
              "          const docLink = document.createElement('div');\n",
              "          docLink.innerHTML = docLinkHtml;\n",
              "          element.appendChild(docLink);\n",
              "        }\n",
              "      </script>\n",
              "    </div>\n",
              "  </div>\n",
              "  "
            ]
          },
          "metadata": {},
          "execution_count": 246
        }
      ]
    },
    {
      "cell_type": "markdown",
      "source": [
        "Выделить группы похожих запросов у разных пользователей (по UserId)"
      ],
      "metadata": {
        "id": "9fc5umR8sTRz"
      }
    },
    {
      "cell_type": "code",
      "source": [
        "df.groupby(['Text'])['UserId'].count().sort_values(ascending=False).head(10)"
      ],
      "metadata": {
        "colab": {
          "base_uri": "https://localhost:8080/"
        },
        "id": "kiAEYPXykR6U",
        "outputId": "e4a8cbba-79f8-4459-ae1a-d7671dc2e0d9"
      },
      "execution_count": 202,
      "outputs": [
        {
          "output_type": "execute_result",
          "data": {
            "text/plain": [
              "Text\n",
              " ПМЭФ                    1425\n",
              " ВТБ                      640\n",
              " Газпром                  625\n",
              " ММВБ                     603\n",
              " законопроект             600\n",
              " IMOEX                    581\n",
              "MOEX                      580\n",
              " ММВБ-РТС                 578\n",
              " ПАО Московская Биржа     578\n",
              " 7702077840               576\n",
              "Name: UserId, dtype: int64"
            ]
          },
          "metadata": {},
          "execution_count": 202
        }
      ]
    },
    {
      "cell_type": "markdown",
      "source": [
        "Для выделенных групп запросов по \"облакам слов\" выработать метрику, максимизирующую качество маппинга некоторых из выделенных облаков на предоставленные тематики."
      ],
      "metadata": {
        "id": "EpBiRWlXHl8M"
      }
    },
    {
      "cell_type": "code",
      "source": [
        "# проверим первые 1000 популярных запросов\n",
        "count = 1000\n",
        "\n",
        "# сставим список популярных слов в запросе\n",
        "data = list(df.groupby(['Text'])['UserId'].count().sort_values(ascending=False).index[0:count-1])\n",
        "popular_queries = pd.DataFrame(\n",
        "    data,\n",
        "    columns=['Text']\n",
        "    )\n",
        "\n",
        "popular_queries = popular_queries.Text.apply(lambda text: text.split())         #разобьем по словам\n",
        "popular_queries = popular_queries.explode()                                     # перенесем каждое новое слово\n",
        "popular_queries = list(popular_queries)\n",
        "\n",
        "# создадим счетчики найденных сопадений\n",
        "in_clouds = Counter()\n",
        "not_found = Counter()\n",
        "\n",
        "# переводим слова в нижний регистр и ищем совпадения\n",
        "for i in range(0, len(popular_queries)):\n",
        "  for j in range(0, 572):\n",
        "    if popular_queries[i].lower() in words_clouds_data[j]['WordCloud']:\n",
        "      in_clouds[popular_queries[i]] += 1\n",
        "    else:\n",
        "      not_found[popular_queries[i].lower()] += 1\n",
        "\n",
        "print(f'Найдено совпадений {len(in_clouds)} из {len(in_clouds)+len(not_found)}.')"
      ],
      "metadata": {
        "colab": {
          "base_uri": "https://localhost:8080/"
        },
        "id": "VBEUpcc40Kat",
        "outputId": "515e155d-9bce-494f-be1c-596d857fe3cc"
      },
      "execution_count": 245,
      "outputs": [
        {
          "output_type": "stream",
          "name": "stdout",
          "text": [
            "Найдено совпадений 383 из 1499.\n"
          ]
        }
      ]
    }
  ]
}